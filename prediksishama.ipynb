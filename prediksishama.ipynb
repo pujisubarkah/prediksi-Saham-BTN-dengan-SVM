{
 "cells": [
  {
   "cell_type": "code",
   "execution_count": 2,
   "metadata": {},
   "outputs": [
    {
     "name": "stdout",
     "output_type": "stream",
     "text": [
      "Collecting pandas_datareader\n",
      "  Downloading pandas_datareader-0.9.0-py3-none-any.whl (107 kB)\n",
      "\u001b[K     |████████████████████████████████| 107 kB 1.1 MB/s eta 0:00:01\n",
      "\u001b[?25hRequirement already satisfied: requests>=2.19.0 in /Applications/anaconda3/lib/python3.8/site-packages (from pandas_datareader) (2.24.0)\n",
      "Requirement already satisfied: pandas>=0.23 in /Applications/anaconda3/lib/python3.8/site-packages (from pandas_datareader) (1.0.5)\n",
      "Requirement already satisfied: lxml in /Applications/anaconda3/lib/python3.8/site-packages (from pandas_datareader) (4.5.2)\n",
      "Requirement already satisfied: chardet<4,>=3.0.2 in /Applications/anaconda3/lib/python3.8/site-packages (from requests>=2.19.0->pandas_datareader) (3.0.4)\n",
      "Requirement already satisfied: certifi>=2017.4.17 in /Applications/anaconda3/lib/python3.8/site-packages (from requests>=2.19.0->pandas_datareader) (2020.6.20)\n",
      "Requirement already satisfied: idna<3,>=2.5 in /Applications/anaconda3/lib/python3.8/site-packages (from requests>=2.19.0->pandas_datareader) (2.10)\n",
      "Requirement already satisfied: urllib3!=1.25.0,!=1.25.1,<1.26,>=1.21.1 in /Applications/anaconda3/lib/python3.8/site-packages (from requests>=2.19.0->pandas_datareader) (1.25.9)\n",
      "Requirement already satisfied: pytz>=2017.2 in /Applications/anaconda3/lib/python3.8/site-packages (from pandas>=0.23->pandas_datareader) (2020.1)\n",
      "Requirement already satisfied: python-dateutil>=2.6.1 in /Applications/anaconda3/lib/python3.8/site-packages (from pandas>=0.23->pandas_datareader) (2.8.1)\n",
      "Requirement already satisfied: numpy>=1.13.3 in /Applications/anaconda3/lib/python3.8/site-packages (from pandas>=0.23->pandas_datareader) (1.18.5)\n",
      "Requirement already satisfied: six>=1.5 in /Applications/anaconda3/lib/python3.8/site-packages (from python-dateutil>=2.6.1->pandas>=0.23->pandas_datareader) (1.15.0)\n",
      "Installing collected packages: pandas-datareader\n",
      "Successfully installed pandas-datareader-0.9.0\n",
      "Note: you may need to restart the kernel to use updated packages.\n"
     ]
    }
   ],
   "source": [
    "pip install pandas_datareader"
   ]
  },
  {
   "cell_type": "code",
   "execution_count": 4,
   "metadata": {},
   "outputs": [],
   "source": [
    "import matplotlib.pyplot as plt\n",
    "import matplotlib.dates as mdates\n",
    "import pandas as pd\n",
    "import pandas_datareader\n",
    "import datetime as dt\n",
    "from sklearn.preprocessing import StandardScaler\n",
    "from sklearn.model_selection import GridSearchCV\n",
    "from sklearn.svm import SVR"
   ]
  },
  {
   "cell_type": "code",
   "execution_count": 5,
   "metadata": {},
   "outputs": [],
   "source": [
    "def generate_data(index_saham, start, end):\n",
    "    data_all = pandas_datareader.data.DataReader(index_saham, 'yahoo', start,end)\n",
    "    data_all.reset_index(inplace=True)\n",
    "    x_all = pd.DataFrame(data_all.Date.astype(str).str.split('-').tolist(),columns=\"year month date\".split())\n",
    "    y_all = data_all.Close\n",
    "    return x_all, y_all, data_all\n",
    "start_date = dt.datetime(2014, 12, 31)\n",
    "end_date = dt.datetime.now()\n",
    "x_all, y_all, data_all = generate_data('BBTN.JK', start_date, end_date)"
   ]
  },
  {
   "cell_type": "code",
   "execution_count": 6,
   "metadata": {},
   "outputs": [
    {
     "data": {
      "text/html": [
       "<div>\n",
       "<style scoped>\n",
       "    .dataframe tbody tr th:only-of-type {\n",
       "        vertical-align: middle;\n",
       "    }\n",
       "\n",
       "    .dataframe tbody tr th {\n",
       "        vertical-align: top;\n",
       "    }\n",
       "\n",
       "    .dataframe thead th {\n",
       "        text-align: right;\n",
       "    }\n",
       "</style>\n",
       "<table border=\"1\" class=\"dataframe\">\n",
       "  <thead>\n",
       "    <tr style=\"text-align: right;\">\n",
       "      <th></th>\n",
       "      <th>Date</th>\n",
       "      <th>High</th>\n",
       "      <th>Low</th>\n",
       "      <th>Open</th>\n",
       "      <th>Close</th>\n",
       "      <th>Volume</th>\n",
       "      <th>Adj Close</th>\n",
       "    </tr>\n",
       "  </thead>\n",
       "  <tbody>\n",
       "    <tr>\n",
       "      <th>0</th>\n",
       "      <td>2015-01-02</td>\n",
       "      <td>1225.0</td>\n",
       "      <td>1195.0</td>\n",
       "      <td>1205.0</td>\n",
       "      <td>1225.0</td>\n",
       "      <td>9350500.0</td>\n",
       "      <td>1109.672974</td>\n",
       "    </tr>\n",
       "    <tr>\n",
       "      <th>1</th>\n",
       "      <td>2015-01-05</td>\n",
       "      <td>1225.0</td>\n",
       "      <td>1205.0</td>\n",
       "      <td>1220.0</td>\n",
       "      <td>1220.0</td>\n",
       "      <td>9422400.0</td>\n",
       "      <td>1105.143555</td>\n",
       "    </tr>\n",
       "    <tr>\n",
       "      <th>2</th>\n",
       "      <td>2015-01-06</td>\n",
       "      <td>1210.0</td>\n",
       "      <td>1180.0</td>\n",
       "      <td>1210.0</td>\n",
       "      <td>1195.0</td>\n",
       "      <td>13978100.0</td>\n",
       "      <td>1082.497192</td>\n",
       "    </tr>\n",
       "    <tr>\n",
       "      <th>3</th>\n",
       "      <td>2015-01-07</td>\n",
       "      <td>1215.0</td>\n",
       "      <td>1200.0</td>\n",
       "      <td>1210.0</td>\n",
       "      <td>1205.0</td>\n",
       "      <td>4726400.0</td>\n",
       "      <td>1091.555786</td>\n",
       "    </tr>\n",
       "    <tr>\n",
       "      <th>4</th>\n",
       "      <td>2015-01-08</td>\n",
       "      <td>1230.0</td>\n",
       "      <td>1205.0</td>\n",
       "      <td>1215.0</td>\n",
       "      <td>1210.0</td>\n",
       "      <td>19429000.0</td>\n",
       "      <td>1096.084961</td>\n",
       "    </tr>\n",
       "    <tr>\n",
       "      <th>...</th>\n",
       "      <td>...</td>\n",
       "      <td>...</td>\n",
       "      <td>...</td>\n",
       "      <td>...</td>\n",
       "      <td>...</td>\n",
       "      <td>...</td>\n",
       "      <td>...</td>\n",
       "    </tr>\n",
       "    <tr>\n",
       "      <th>1446</th>\n",
       "      <td>2020-09-30</td>\n",
       "      <td>1230.0</td>\n",
       "      <td>1165.0</td>\n",
       "      <td>1220.0</td>\n",
       "      <td>1200.0</td>\n",
       "      <td>41894500.0</td>\n",
       "      <td>1200.000000</td>\n",
       "    </tr>\n",
       "    <tr>\n",
       "      <th>1447</th>\n",
       "      <td>2020-10-01</td>\n",
       "      <td>1240.0</td>\n",
       "      <td>1205.0</td>\n",
       "      <td>1220.0</td>\n",
       "      <td>1235.0</td>\n",
       "      <td>49717400.0</td>\n",
       "      <td>1235.000000</td>\n",
       "    </tr>\n",
       "    <tr>\n",
       "      <th>1448</th>\n",
       "      <td>2020-10-02</td>\n",
       "      <td>1240.0</td>\n",
       "      <td>1180.0</td>\n",
       "      <td>1235.0</td>\n",
       "      <td>1210.0</td>\n",
       "      <td>34110800.0</td>\n",
       "      <td>1210.000000</td>\n",
       "    </tr>\n",
       "    <tr>\n",
       "      <th>1449</th>\n",
       "      <td>2020-10-05</td>\n",
       "      <td>1240.0</td>\n",
       "      <td>1205.0</td>\n",
       "      <td>1225.0</td>\n",
       "      <td>1240.0</td>\n",
       "      <td>31300300.0</td>\n",
       "      <td>1240.000000</td>\n",
       "    </tr>\n",
       "    <tr>\n",
       "      <th>1450</th>\n",
       "      <td>2020-10-06</td>\n",
       "      <td>1270.0</td>\n",
       "      <td>1250.0</td>\n",
       "      <td>1260.0</td>\n",
       "      <td>1260.0</td>\n",
       "      <td>31990500.0</td>\n",
       "      <td>1260.000000</td>\n",
       "    </tr>\n",
       "  </tbody>\n",
       "</table>\n",
       "<p>1451 rows × 7 columns</p>\n",
       "</div>"
      ],
      "text/plain": [
       "           Date    High     Low    Open   Close      Volume    Adj Close\n",
       "0    2015-01-02  1225.0  1195.0  1205.0  1225.0   9350500.0  1109.672974\n",
       "1    2015-01-05  1225.0  1205.0  1220.0  1220.0   9422400.0  1105.143555\n",
       "2    2015-01-06  1210.0  1180.0  1210.0  1195.0  13978100.0  1082.497192\n",
       "3    2015-01-07  1215.0  1200.0  1210.0  1205.0   4726400.0  1091.555786\n",
       "4    2015-01-08  1230.0  1205.0  1215.0  1210.0  19429000.0  1096.084961\n",
       "...         ...     ...     ...     ...     ...         ...          ...\n",
       "1446 2020-09-30  1230.0  1165.0  1220.0  1200.0  41894500.0  1200.000000\n",
       "1447 2020-10-01  1240.0  1205.0  1220.0  1235.0  49717400.0  1235.000000\n",
       "1448 2020-10-02  1240.0  1180.0  1235.0  1210.0  34110800.0  1210.000000\n",
       "1449 2020-10-05  1240.0  1205.0  1225.0  1240.0  31300300.0  1240.000000\n",
       "1450 2020-10-06  1270.0  1250.0  1260.0  1260.0  31990500.0  1260.000000\n",
       "\n",
       "[1451 rows x 7 columns]"
      ]
     },
     "execution_count": 6,
     "metadata": {},
     "output_type": "execute_result"
    }
   ],
   "source": [
    "data_all"
   ]
  },
  {
   "cell_type": "code",
   "execution_count": 7,
   "metadata": {},
   "outputs": [
    {
     "data": {
      "text/html": [
       "<div>\n",
       "<style scoped>\n",
       "    .dataframe tbody tr th:only-of-type {\n",
       "        vertical-align: middle;\n",
       "    }\n",
       "\n",
       "    .dataframe tbody tr th {\n",
       "        vertical-align: top;\n",
       "    }\n",
       "\n",
       "    .dataframe thead th {\n",
       "        text-align: right;\n",
       "    }\n",
       "</style>\n",
       "<table border=\"1\" class=\"dataframe\">\n",
       "  <thead>\n",
       "    <tr style=\"text-align: right;\">\n",
       "      <th></th>\n",
       "      <th>year</th>\n",
       "      <th>month</th>\n",
       "      <th>date</th>\n",
       "    </tr>\n",
       "  </thead>\n",
       "  <tbody>\n",
       "    <tr>\n",
       "      <th>0</th>\n",
       "      <td>2015</td>\n",
       "      <td>01</td>\n",
       "      <td>02</td>\n",
       "    </tr>\n",
       "    <tr>\n",
       "      <th>1</th>\n",
       "      <td>2015</td>\n",
       "      <td>01</td>\n",
       "      <td>05</td>\n",
       "    </tr>\n",
       "    <tr>\n",
       "      <th>2</th>\n",
       "      <td>2015</td>\n",
       "      <td>01</td>\n",
       "      <td>06</td>\n",
       "    </tr>\n",
       "    <tr>\n",
       "      <th>3</th>\n",
       "      <td>2015</td>\n",
       "      <td>01</td>\n",
       "      <td>07</td>\n",
       "    </tr>\n",
       "    <tr>\n",
       "      <th>4</th>\n",
       "      <td>2015</td>\n",
       "      <td>01</td>\n",
       "      <td>08</td>\n",
       "    </tr>\n",
       "    <tr>\n",
       "      <th>...</th>\n",
       "      <td>...</td>\n",
       "      <td>...</td>\n",
       "      <td>...</td>\n",
       "    </tr>\n",
       "    <tr>\n",
       "      <th>1446</th>\n",
       "      <td>2020</td>\n",
       "      <td>09</td>\n",
       "      <td>30</td>\n",
       "    </tr>\n",
       "    <tr>\n",
       "      <th>1447</th>\n",
       "      <td>2020</td>\n",
       "      <td>10</td>\n",
       "      <td>01</td>\n",
       "    </tr>\n",
       "    <tr>\n",
       "      <th>1448</th>\n",
       "      <td>2020</td>\n",
       "      <td>10</td>\n",
       "      <td>02</td>\n",
       "    </tr>\n",
       "    <tr>\n",
       "      <th>1449</th>\n",
       "      <td>2020</td>\n",
       "      <td>10</td>\n",
       "      <td>05</td>\n",
       "    </tr>\n",
       "    <tr>\n",
       "      <th>1450</th>\n",
       "      <td>2020</td>\n",
       "      <td>10</td>\n",
       "      <td>06</td>\n",
       "    </tr>\n",
       "  </tbody>\n",
       "</table>\n",
       "<p>1451 rows × 3 columns</p>\n",
       "</div>"
      ],
      "text/plain": [
       "      year month date\n",
       "0     2015    01   02\n",
       "1     2015    01   05\n",
       "2     2015    01   06\n",
       "3     2015    01   07\n",
       "4     2015    01   08\n",
       "...    ...   ...  ...\n",
       "1446  2020    09   30\n",
       "1447  2020    10   01\n",
       "1448  2020    10   02\n",
       "1449  2020    10   05\n",
       "1450  2020    10   06\n",
       "\n",
       "[1451 rows x 3 columns]"
      ]
     },
     "execution_count": 7,
     "metadata": {},
     "output_type": "execute_result"
    }
   ],
   "source": [
    "def tranformasi_data(x_all, x_tr):\n",
    "    scaler = StandardScaler()\n",
    "    scaler.fit(x_all)\n",
    "    x_all_tr = scaler.transform(x_tr)\n",
    "    return x_all_tr\n",
    "x_all_tr = tranformasi_data(x_all, x_all)\n",
    "x_all"
   ]
  },
  {
   "cell_type": "code",
   "execution_count": 8,
   "metadata": {},
   "outputs": [
    {
     "data": {
      "text/plain": [
       "array([[-1.46321728, -1.56818496, -1.56400768],\n",
       "       [-1.46321728, -1.56818496, -1.22250861],\n",
       "       [-1.46321728, -1.56818496, -1.10867559],\n",
       "       ...,\n",
       "       [ 1.56636074,  1.08212272, -1.56400768],\n",
       "       [ 1.56636074,  1.08212272, -1.22250861],\n",
       "       [ 1.56636074,  1.08212272, -1.10867559]])"
      ]
     },
     "execution_count": 8,
     "metadata": {},
     "output_type": "execute_result"
    }
   ],
   "source": [
    "x_all_tr"
   ]
  },
  {
   "cell_type": "code",
   "execution_count": 9,
   "metadata": {},
   "outputs": [],
   "source": [
    "def model(x_all_tr, y_all):\n",
    "    gcs = GridSearchCV(SVR(kernel='rbf'),\n",
    "                       param_grid={'gamma': [5, 6, 7, 8, 9, 10]},\n",
    "                       cv=5,\n",
    "                       scoring='neg_mean_squared_error')\n",
    "    grid_result = gcs.fit(x_all_tr, y_all)\n",
    "    best_params = grid_result.best_params_\n",
    "    best_svr = SVR(kernel='rbf', C=1e3, gamma=best_params[\"gamma\"])\n",
    "    best_svr.fit(x_all_tr, y_all)\n",
    "    y_pred = best_svr.predict(x_all_tr)\n",
    "    return y_pred, best_svr\n",
    "y_pred, best_svr = model(x_all_tr, y_all)"
   ]
  },
  {
   "cell_type": "code",
   "execution_count": 10,
   "metadata": {},
   "outputs": [
    {
     "data": {
      "image/png": "[encoded data removed]",
      "text/plain": [
       "<Figure size 432x288 with 1 Axes>"
      ]
     },
     "metadata": {
      "needs_background": "light"
     },
     "output_type": "display_data"
    }
   ],
   "source": [
    "def plot(y_pred, data_all):\n",
    "    fig, ax1 = plt.subplots()\n",
    "    plt.plot(data_all.Date, data_all.Close)\n",
    "    monthyearFmt = mdates.DateFormatter('%Y-%m')\n",
    "    ax1.xaxis.set_major_formatter(monthyearFmt)\n",
    "    _ = plt.xticks(rotation=90)\n",
    "    plt.plot(data_all.Date, y_pred, c='r', label='RBF model')\n",
    "    plt.scatter(data_all.Date, data_all.Close, c='b', label='Data')\n",
    "    plt.xlabel('Date')\n",
    "    plt.ylabel('Price')\n",
    "    plt.title('Support Vector Regression')\n",
    "    plt.legend()\n",
    "    plt.show()\n",
    "plot(y_pred, data_all)"
   ]
  },
  {
   "cell_type": "code",
   "execution_count": 11,
   "metadata": {},
   "outputs": [
    {
     "name": "stdout",
     "output_type": "stream",
     "text": [
      "MSE: 1303.304\n",
      "MAE: 16.143\n",
      "R^2: 0.998\n"
     ]
    }
   ],
   "source": [
    "from sklearn.metrics import mean_absolute_error, mean_squared_error, r2_score\n",
    "print('MSE: {0:.3f}'.format(mean_squared_error(y_all, y_pred)))\n",
    "print('MAE: {0:.3f}'.format(mean_absolute_error(y_all, y_pred)))\n",
    "print('R^2: {0:.3f}'.format(r2_score(y_all, y_pred)))"
   ]
  },
  {
   "cell_type": "code",
   "execution_count": 13,
   "metadata": {},
   "outputs": [
    {
     "data": {
      "text/plain": [
       "array([1321.92582605])"
      ]
     },
     "execution_count": 13,
     "metadata": {},
     "output_type": "execute_result"
    }
   ],
   "source": [
    "prediksi_tanggal = '2020-10-07'\n",
    "y, m, d = prediksi_tanggal.split('-')\n",
    "c = [[y, m, d]]\n",
    "c_tr = tranformasi_data(x_all, c)\n",
    "best_svr.predict(c_tr)"
   ]
  }
 ],
 "metadata": {
  "kernelspec": {
   "display_name": "Python 3",
   "language": "python",
   "name": "python3"
  },
  "language_info": {
   "codemirror_mode": {
    "name": "ipython",
    "version": 3
   },
   "file_extension": ".py",
   "mimetype": "text/x-python",
   "name": "python",
   "nbconvert_exporter": "python",
   "pygments_lexer": "ipython3",
   "version": "3.8.3"
  }
 },
 "nbformat": 4,
 "nbformat_minor": 4
}
